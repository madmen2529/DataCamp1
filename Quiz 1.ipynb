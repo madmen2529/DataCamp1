{
 "cells": [
  {
   "cell_type": "code",
   "execution_count": 11,
   "metadata": {},
   "outputs": [
    {
     "name": "stdout",
     "output_type": "stream",
     "text": [
      "Find result of 2345 % 13.\n",
      "5\n"
     ]
    }
   ],
   "source": [
    "print(\"Find result of 2345 % 13.\")\n",
    "ans = 2345%13\n",
    "print(ans)"
   ]
  },
  {
   "cell_type": "code",
   "execution_count": 12,
   "metadata": {},
   "outputs": [
    {
     "name": "stdout",
     "output_type": "stream",
     "text": [
      "Find result of 1567 // 17.\n",
      "92\n"
     ]
    }
   ],
   "source": [
    "print(\"Find result of 1567 // 17.\")\n",
    "ans2 = 1567//17\n",
    "print(ans2)"
   ]
  },
  {
   "cell_type": "code",
   "execution_count": 9,
   "metadata": {},
   "outputs": [
    {
     "name": "stdout",
     "output_type": "stream",
     "text": [
      "Find compare result of FirstName and Firstname that is the same or not.\n",
      " Test1 Test2\n",
      "Answer : No\n"
     ]
    }
   ],
   "source": [
    "print(\"Find compare result of FirstName and Firstname that is the same or not.\")\n",
    "FirstName = \"Test1\"\n",
    "Firstname = \"Test2\"\n",
    "print(\"\", FirstName, Firstname)\n",
    "print(\"Answer : No\")"
   ]
  },
  {
   "cell_type": "code",
   "execution_count": 10,
   "metadata": {},
   "outputs": [
    {
     "ename": "SyntaxError",
     "evalue": "invalid syntax (<ipython-input-10-7b5ba4486407>, line 2)",
     "output_type": "error",
     "traceback": [
      "\u001b[0;36m  File \u001b[0;32m\"<ipython-input-10-7b5ba4486407>\"\u001b[0;36m, line \u001b[0;32m2\u001b[0m\n\u001b[0;31m    13Friday = \"123\"\u001b[0m\n\u001b[0m           ^\u001b[0m\n\u001b[0;31mSyntaxError\u001b[0m\u001b[0;31m:\u001b[0m invalid syntax\n"
     ]
    }
   ],
   "source": [
    "print(\"Can you create variable 13Friday ?\")\n",
    "13Friday = \"123\"\n",
    "print(\"Answer : No\")"
   ]
  },
  {
   "cell_type": "code",
   "execution_count": 13,
   "metadata": {},
   "outputs": [
    {
     "name": "stdout",
     "output_type": "stream",
     "text": [
      "Print No.1 and No.2 result with format function.\n",
      "Answer : 5, 92\n"
     ]
    }
   ],
   "source": [
    "print(\"Print No.1 and No.2 result with format function.\")\n",
    "print(\"Answer : {}, {}\".format(ans, ans2))"
   ]
  },
  {
   "cell_type": "code",
   "execution_count": null,
   "metadata": {},
   "outputs": [],
   "source": []
  }
 ],
 "metadata": {
  "kernelspec": {
   "display_name": "Python 3",
   "language": "python",
   "name": "python3"
  },
  "language_info": {
   "codemirror_mode": {
    "name": "ipython",
    "version": 3
   },
   "file_extension": ".py",
   "mimetype": "text/x-python",
   "name": "python",
   "nbconvert_exporter": "python",
   "pygments_lexer": "ipython3",
   "version": "3.7.4"
  }
 },
 "nbformat": 4,
 "nbformat_minor": 2
}
