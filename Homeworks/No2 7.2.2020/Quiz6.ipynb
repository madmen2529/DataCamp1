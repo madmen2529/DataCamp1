{
 "cells": [
  {
   "cell_type": "code",
   "execution_count": null,
   "metadata": {},
   "outputs": [],
   "source": [
    "print(\"รับ input 3 ค่า แล้วตรวบสอบว่านำมาสร้าง 3 เหลี่ยมได้แบบใด(มุมป้าน มุมแหลม มุมฉาก) (a,b,c ตามลำดับ)\")\n",
    "\n",
    "import math\n",
    "\n",
    "lst = []\n",
    "while len(lst) < 3:\n",
    "    lst.append(int(input()))\n",
    "#Find X\n",
    "tan_x = lst[1]/lst[0] # b/a\n",
    "tan_x = int(math.atan(tan_x) * 100)\n",
    "#Find Y\n",
    "tan_y = lst[0]/lst[1] # a/b\n",
    "tan_y = int(math.atan(tan_y) * 100)\n",
    "# print(tan_x)\n",
    "# print(tan_y)"
   ]
  }
 ],
 "metadata": {
  "kernelspec": {
   "display_name": "Python 3",
   "language": "python",
   "name": "python3"
  },
  "language_info": {
   "codemirror_mode": {
    "name": "ipython",
    "version": 3
   },
   "file_extension": ".py",
   "mimetype": "text/x-python",
   "name": "python",
   "nbconvert_exporter": "python",
   "pygments_lexer": "ipython3",
   "version": "3.7.4"
  }
 },
 "nbformat": 4,
 "nbformat_minor": 2
}
