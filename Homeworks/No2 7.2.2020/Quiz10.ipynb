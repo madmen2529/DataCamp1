{
 "cells": [
  {
   "cell_type": "code",
   "execution_count": 1,
   "metadata": {},
   "outputs": [
    {
     "name": "stdout",
     "output_type": "stream",
     "text": [
      "Find discount price of fourth meal with credit card optional.\n",
      "1200\n",
      "2000\n",
      "3000\n",
      "4000\n",
      "Has credit card? (y/n)y\n",
      "meal discount price:  3800\n"
     ]
    }
   ],
   "source": [
    "print(\"Find discount price of fourth meal with credit card optional.\")\n",
    "lst = []\n",
    "while len(lst) < 4:\n",
    "    cost = int(input())\n",
    "    if cost >= 1000 and cost <= 5000:\n",
    "        lst.append(cost)\n",
    "        \n",
    "dis = 0\n",
    "if input(\"Has credit card? (y/n) :\") == 'y':\n",
    "    dis = 0.05\n",
    "\n",
    "total = sum(lst[0:2])\n",
    "if(total > 9000):\n",
    "    dis += 0.30\n",
    "elif(total > 4000):\n",
    "    dis += 0.25\n",
    "    \n",
    "print(\"meal discount price: \", int(lst[3] - (lst[3] * dis)))"
   ]
  },
  {
   "cell_type": "code",
   "execution_count": null,
   "metadata": {},
   "outputs": [],
   "source": []
  }
 ],
 "metadata": {
  "kernelspec": {
   "display_name": "Python 3",
   "language": "python",
   "name": "python3"
  },
  "language_info": {
   "codemirror_mode": {
    "name": "ipython",
    "version": 3
   },
   "file_extension": ".py",
   "mimetype": "text/x-python",
   "name": "python",
   "nbconvert_exporter": "python",
   "pygments_lexer": "ipython3",
   "version": "3.7.4"
  }
 },
 "nbformat": 4,
 "nbformat_minor": 2
}
