{
 "cells": [
  {
   "cell_type": "code",
   "execution_count": 4,
   "metadata": {},
   "outputs": [
    {
     "name": "stdout",
     "output_type": "stream",
     "text": [
      "Input more than 7 char and convert each char Upper to lower and lower to upper.\n",
      "Input string : qwe\n",
      "String can not be less than 7 chars.\n",
      "Input string : qwertyuioo\n",
      "QWERTYUIOO\n"
     ]
    }
   ],
   "source": [
    "print(\"Input more than 7 char and convert each char Upper to lower and lower to upper.\")\n",
    "string = input(\"Input string : \")\n",
    "while len(string) < 7:\n",
    "    print(\"String can not be less than 7 chars.\")\n",
    "    string = input(\"Input string : \")\n",
    "\n",
    "new_string = \"\"\n",
    "for char in string:\n",
    "    if char.islower():\n",
    "        new_string += char.upper()\n",
    "    else :\n",
    "        new_string += char.lower()\n",
    "print(new_string)"
   ]
  },
  {
   "cell_type": "code",
   "execution_count": null,
   "metadata": {},
   "outputs": [],
   "source": []
  }
 ],
 "metadata": {
  "kernelspec": {
   "display_name": "Python 3",
   "language": "python",
   "name": "python3"
  },
  "language_info": {
   "codemirror_mode": {
    "name": "ipython",
    "version": 3
   },
   "file_extension": ".py",
   "mimetype": "text/x-python",
   "name": "python",
   "nbconvert_exporter": "python",
   "pygments_lexer": "ipython3",
   "version": "3.7.4"
  }
 },
 "nbformat": 4,
 "nbformat_minor": 2
}
