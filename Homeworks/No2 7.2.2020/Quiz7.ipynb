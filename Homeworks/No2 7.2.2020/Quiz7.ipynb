{
 "cells": [
  {
   "cell_type": "code",
   "execution_count": 4,
   "metadata": {},
   "outputs": [
    {
     "name": "stdout",
     "output_type": "stream",
     "text": [
      "Find discount price of lates meal.\n",
      "3000\n",
      "3000\n",
      "3000\n",
      "meal discount:  2550\n"
     ]
    }
   ],
   "source": [
    "print(\"Find discount price of lates meal.\")\n",
    "lst = []\n",
    "while len(lst) < 3:\n",
    "    cost = int(input())\n",
    "    if cost >= 1000 and cost <= 5000:\n",
    "        lst.append(cost)\n",
    "\n",
    "total = sum(lst)\n",
    "if(total > 12000):\n",
    "    dis = 0.25 # 25%\n",
    "elif(total > 6000):\n",
    "    dis = 0.15 # 15%\n",
    "else:\n",
    "    dis = 0\n",
    "    \n",
    "print(\"meal discount price: \", int(lst[2] - (lst[2] * dis)))\n"
   ]
  },
  {
   "cell_type": "code",
   "execution_count": null,
   "metadata": {},
   "outputs": [],
   "source": []
  }
 ],
 "metadata": {
  "kernelspec": {
   "display_name": "Python 3",
   "language": "python",
   "name": "python3"
  },
  "language_info": {
   "codemirror_mode": {
    "name": "ipython",
    "version": 3
   },
   "file_extension": ".py",
   "mimetype": "text/x-python",
   "name": "python",
   "nbconvert_exporter": "python",
   "pygments_lexer": "ipython3",
   "version": "3.7.4"
  }
 },
 "nbformat": 4,
 "nbformat_minor": 2
}
