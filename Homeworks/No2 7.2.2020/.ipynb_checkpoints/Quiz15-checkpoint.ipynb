{
 "cells": [
  {
   "cell_type": "code",
   "execution_count": 10,
   "metadata": {},
   "outputs": [
    {
     "name": "stdout",
     "output_type": "stream",
     "text": [
      "\n",
      "Input total animals :24\n",
      "Input total legs :14\n",
      "3\n",
      "1\n",
      "810\n"
     ]
    }
   ],
   "source": [
    "print(\"\")\n",
    "animals = int(input(\"Input total animals :\"))\n",
    "legs = int(input(\"Input total legs :\"))\n",
    "while legs%2 != 0 :\n",
    "    print(\"legs must be even.\")\n",
    "    legs = int(input(\"Input total legs :\"))\n",
    "\n",
    "cows = int(legs / 4)\n",
    "bird = 0\n",
    "if legs % 4 != 0:\n",
    "    bird = 1\n",
    "print(cows)\n",
    "print(bird)\n",
    "\n",
    "tax = cows * 220 + bird * 150\n",
    "print(tax)"
   ]
  },
  {
   "cell_type": "code",
   "execution_count": null,
   "metadata": {},
   "outputs": [],
   "source": []
  }
 ],
 "metadata": {
  "kernelspec": {
   "display_name": "Python 3",
   "language": "python",
   "name": "python3"
  },
  "language_info": {
   "codemirror_mode": {
    "name": "ipython",
    "version": 3
   },
   "file_extension": ".py",
   "mimetype": "text/x-python",
   "name": "python",
   "nbconvert_exporter": "python",
   "pygments_lexer": "ipython3",
   "version": "3.7.4"
  }
 },
 "nbformat": 4,
 "nbformat_minor": 2
}
