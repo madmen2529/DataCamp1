{
 "cells": [
  {
   "cell_type": "code",
   "execution_count": 3,
   "metadata": {},
   "outputs": [
    {
     "name": "stdout",
     "output_type": "stream",
     "text": [
      "Input number: 1\n",
      "[1]\n",
      "Input number: 2\n",
      "[1, 2]\n",
      "Input number: 3\n",
      "[1, 2, 3]\n",
      "Input number: 4\n",
      "[1, 2, 3, 4]\n",
      "Input number: 5\n",
      "[1, 2, 3, 4, 5]\n",
      "Input number: 0\n",
      "[1, 2, 3, 4, 5, 0]\n",
      "15\n"
     ]
    }
   ],
   "source": [
    "print(\"Find sum of all inputs.\")\n",
    "lst = []\n",
    "temp = 1\n",
    "while temp != 0:\n",
    "    temp = int(input(\"Input number: \"))\n",
    "    lst.append(temp)\n",
    "    print(lst)\n",
    "print(sum(lst))"
   ]
  },
  {
   "cell_type": "code",
   "execution_count": null,
   "metadata": {},
   "outputs": [],
   "source": []
  },
  {
   "cell_type": "code",
   "execution_count": null,
   "metadata": {},
   "outputs": [],
   "source": []
  }
 ],
 "metadata": {
  "kernelspec": {
   "display_name": "Python 3",
   "language": "python",
   "name": "python3"
  },
  "language_info": {
   "codemirror_mode": {
    "name": "ipython",
    "version": 3
   },
   "file_extension": ".py",
   "mimetype": "text/x-python",
   "name": "python",
   "nbconvert_exporter": "python",
   "pygments_lexer": "ipython3",
   "version": "3.7.4"
  }
 },
 "nbformat": 4,
 "nbformat_minor": 2
}
