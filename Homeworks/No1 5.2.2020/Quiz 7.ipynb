{
 "cells": [
  {
   "cell_type": "code",
   "execution_count": 1,
   "metadata": {},
   "outputs": [
    {
     "name": "stdout",
     "output_type": "stream",
     "text": [
      "F\n"
     ]
    }
   ],
   "source": [
    "grade = 49\n",
    "# 80,70,60,50, > 50\n",
    "def p(txt):\n",
    "    print(txt)\n",
    "    \n",
    "if(grade > 80):\n",
    "    p(\"A\")\n",
    "elif(grade > 70):\n",
    "    p(\"B\")\n",
    "elif(grade > 60):\n",
    "    p(\"C\")\n",
    "elif(grade > 50):\n",
    "    p(\"D\")\n",
    "else:\n",
    "    p(\"F\")\n",
    "    "
   ]
  },
  {
   "cell_type": "code",
   "execution_count": null,
   "metadata": {},
   "outputs": [],
   "source": []
  }
 ],
 "metadata": {
  "kernelspec": {
   "display_name": "Python 3",
   "language": "python",
   "name": "python3"
  },
  "language_info": {
   "codemirror_mode": {
    "name": "ipython",
    "version": 3
   },
   "file_extension": ".py",
   "mimetype": "text/x-python",
   "name": "python",
   "nbconvert_exporter": "python",
   "pygments_lexer": "ipython3",
   "version": "3.7.4"
  }
 },
 "nbformat": 4,
 "nbformat_minor": 2
}
