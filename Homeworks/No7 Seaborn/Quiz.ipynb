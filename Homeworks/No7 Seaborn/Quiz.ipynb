{
 "cells": [
  {
   "cell_type": "code",
   "execution_count": null,
   "metadata": {},
   "outputs": [],
   "source": [
    "สร้าง DataFrame ที่เก็บยอดขายของบริษัท A,B,C,D ของปี 2014,2015,2016,2017 โดยชื่อบริษัทเป็น index และปีเป็น column. สร้างคำสั่ง numpy สุ่มเลขแบบ float ให้เป็นรายได้ของบริษัทที่อยู่ในช่วง 50 – 500 (หน่วยล้านบาท) \n",
    "\n",
    "ใช้ข้อมูลจาก DataFrame ด้านบนสร้าง Bar plot ให้แกน x เป็น ชื่อบริษัท ยอดขายเฉลี่ยเป็นแกน Y โดยสร้างกราฟแบบแนวตั้งและแนวนอน\n",
    "\n",
    "ใช้ข้อมูลจาก DataFrame ด้านบนสร้าง Scatter plot ให้แกน x เป็น ชื่อบริษัท ยอดขายปี 2017 เป็นแกน Y โดยสร้างกราฟแบบแนวตั้งและแนวนอน\n",
    "\n",
    "\n",
    "ให้ import ไฟล์ titanic ไฟล์เดิมจากบทเรียน Pandas เข้าสู่ Jupyter Notebook สามารถใช้ Pandas มาร่วมทำด้วย\n",
    "\n",
    "4. สร้าง count plot นับข้อมูล Embarked โดยสร้างกราฟแบบแนวตั้งและแนวนอน\n",
    "\n",
    "5. สร้าง count plot นับข้อมูล Pclass โดยสร้างกราฟแบบแนวตั้งและแนวนอน\n",
    "\n",
    "6. สร้าง box plot ให้แกน X เป็นเพศ และแกน Y เป็นราคา \n",
    "\n",
    "7. สร้าง box plot ให้แกน X เป็นPclass และแกน Y เป็นราคา \n",
    "\n",
    "8. สร้าง barplot โดยให้ แกน X เป็นจุดหมายปลายทางและแกน Y เป็นราคา\n",
    "\n",
    "9. สร้าง barplot โดยให้ แกน X เป็นPclass และแกน Y เป็นอายุ\n",
    "\n",
    "10. สร้าง Stripplot โดยให้แกน X เป็น Pclass และ แกน Y เป็นราคา\n",
    "\n",
    "11. สร้าง Stripplot โดยให้ แกน X เป็น Survived แกน Y เป็นอายุ และ hue เป็นเพศ\n",
    "\n",
    "12. สร้าง Swarmplot โดยให้ แกน X เป็นเพศและแกน Y เป็นอายุ\n",
    "\n",
    "13. สร้าง HeatMap โดย crosstab กำหนดให้ index เป็น Pclass และ column เป็นเพศ \n",
    "\n",
    "14. สร้าง HeatMap โดย pivot table กำหนดให้ index เป็น Pclass และ column เป็นเพศ และ values เป็น ราคา\n",
    "\n",
    "15. สร้าง HeatMap โดย pivot table กำหนดให้ index เป็น Pclass และ column เป็นเพศ และ values เป็น ราคา และกำหนดเส้นสีขาวขนาด 2 เป็นเส้นแบ่ง\n",
    "\n",
    "16. สร้าง Heatmap โดย Correlation ของทั้ง DataFrame\n",
    "\n",
    "17. สร้าง Clustermap ของทั้ง DataFrame\n",
    "\n",
    "18. พิจารณาจากข้อมูลที่มีความสัมพันธ์มากที่สุดมาสร้าง Scatterplot\n",
    "\n",
    "19. พิจารณาจากข้อมูลที่มีความสัมพันธ์น้อยที่สุดมาสร้าง Scatterplot และให้ hue เป็นเพศ\n",
    "\n",
    "20. สร้าง Distribution Plot ของราคาและอายุ\n",
    "\n",
    "21. สร้าง Pair Plot ของทั้ง DataFrame (หรือ column ที่น่าสนใจ)"
   ]
  }
 ],
 "metadata": {
  "kernelspec": {
   "display_name": "Python 3",
   "language": "python",
   "name": "python3"
  },
  "language_info": {
   "codemirror_mode": {
    "name": "ipython",
    "version": 3
   },
   "file_extension": ".py",
   "mimetype": "text/x-python",
   "name": "python",
   "nbconvert_exporter": "python",
   "pygments_lexer": "ipython3",
   "version": "3.7.4"
  }
 },
 "nbformat": 4,
 "nbformat_minor": 2
}
