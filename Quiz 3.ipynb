{
 "cells": [
  {
   "cell_type": "code",
   "execution_count": 2,
   "metadata": {},
   "outputs": [
    {
     "name": "stdout",
     "output_type": "stream",
     "text": [
      "['Supakorn', 'Osathanonda', 33]\n",
      "['Supakorn', 'Osathanonda']\n",
      "[23, 'Supakorn', 'Osathanonda']\n",
      "[23, 'Supakorn', 'Osathanonda', 172, 70]\n",
      "['Osathanonda', 172, 70]\n"
     ]
    }
   ],
   "source": [
    "age = 33\n",
    "lst = [\"Supakorn\", \"Osathanonda\", age]\n",
    "print(lst)\n",
    "del lst[2]\n",
    "print(lst)\n",
    "lst.insert(0, age-10)\n",
    "print(lst)\n",
    "lst.append(172)\n",
    "lst.append(70)\n",
    "print(lst)\n",
    "print(lst[2:])"
   ]
  },
  {
   "cell_type": "code",
   "execution_count": null,
   "metadata": {},
   "outputs": [],
   "source": []
  }
 ],
 "metadata": {
  "kernelspec": {
   "display_name": "Python 3",
   "language": "python",
   "name": "python3"
  },
  "language_info": {
   "codemirror_mode": {
    "name": "ipython",
    "version": 3
   },
   "file_extension": ".py",
   "mimetype": "text/x-python",
   "name": "python",
   "nbconvert_exporter": "python",
   "pygments_lexer": "ipython3",
   "version": "3.7.4"
  }
 },
 "nbformat": 4,
 "nbformat_minor": 2
}
