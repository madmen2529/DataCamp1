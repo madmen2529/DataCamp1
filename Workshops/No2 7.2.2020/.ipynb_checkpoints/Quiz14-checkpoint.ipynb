{
 "cells": [
  {
   "cell_type": "code",
   "execution_count": 9,
   "metadata": {},
   "outputs": [
    {
     "name": "stdout",
     "output_type": "stream",
     "text": [
      "Input 2 number (Hour and minute) and calculate parking cost.\n",
      "Parking hour : 2\n",
      "Parking minute : 16\n",
      "{'hr': 2, 'min': 1}\n",
      "Total parking cost price:  450\n"
     ]
    }
   ],
   "source": [
    "print(\"Input 2 number (Hour and minute) and calculate parking cost.\")\n",
    "dict1 = {}\n",
    "dict1['hr'] = (int(input(\"Parking hour : \")))\n",
    "dict1['min'] = (int(input(\"Parking minute : \")))\n",
    "# print(dict1)\n",
    "costPerHour = 150\n",
    "\n",
    "dict1['hr'] = dict1['hr'] # free first hour\n",
    "dict1['min'] = int(dict1['min'] / 15) # convert to hour : 15 min = 1 hour if less than 15 min free\n",
    "# print(dict1)\n",
    "\n",
    "if dict1['hr'] < 1:\n",
    "    totalCost = 0\n",
    "else:\n",
    "    totalCost = dict1['hr'] * 150 + dict1['min'] * 150\n",
    "    \n",
    "print(\"Total parking cost price: \", totalCost)"
   ]
  },
  {
   "cell_type": "code",
   "execution_count": null,
   "metadata": {},
   "outputs": [],
   "source": []
  }
 ],
 "metadata": {
  "kernelspec": {
   "display_name": "Python 3",
   "language": "python",
   "name": "python3"
  },
  "language_info": {
   "codemirror_mode": {
    "name": "ipython",
    "version": 3
   },
   "file_extension": ".py",
   "mimetype": "text/x-python",
   "name": "python",
   "nbconvert_exporter": "python",
   "pygments_lexer": "ipython3",
   "version": "3.7.4"
  }
 },
 "nbformat": 4,
 "nbformat_minor": 2
}
