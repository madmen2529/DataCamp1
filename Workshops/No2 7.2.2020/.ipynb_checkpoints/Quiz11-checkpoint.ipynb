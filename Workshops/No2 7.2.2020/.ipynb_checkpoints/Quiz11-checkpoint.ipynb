{
 "cells": [
  {
   "cell_type": "code",
   "execution_count": 1,
   "metadata": {},
   "outputs": [
    {
     "ename": "SyntaxError",
     "evalue": "invalid syntax (<ipython-input-1-21c7cd5c5fac>, line 8)",
     "output_type": "error",
     "traceback": [
      "\u001b[0;36m  File \u001b[0;32m\"<ipython-input-1-21c7cd5c5fac>\"\u001b[0;36m, line \u001b[0;32m8\u001b[0m\n\u001b[0;31m    for char in string\u001b[0m\n\u001b[0m                      ^\u001b[0m\n\u001b[0;31mSyntaxError\u001b[0m\u001b[0;31m:\u001b[0m invalid syntax\n"
     ]
    }
   ],
   "source": [
    "print(\"Input more than 7 char and convert each char Upper to lower and lower to upper.\")\n",
    "string = input(\"Input string : \")\n",
    "while len(string) < 7:\n",
    "    print(\"String can not be less than 7 chars.\")\n",
    "    string = input(\"Input string : \")\n",
    "\n",
    "new_string = \"\"\n",
    "for char in string:\n",
    "    if char.islower():\n",
    "        new_string += char.upper()\n",
    "    else :\n",
    "        new_string += char.lower()\n",
    "print(new_string)"
   ]
  },
  {
   "cell_type": "code",
   "execution_count": null,
   "metadata": {},
   "outputs": [],
   "source": []
  }
 ],
 "metadata": {
  "kernelspec": {
   "display_name": "Python 3",
   "language": "python",
   "name": "python3"
  },
  "language_info": {
   "codemirror_mode": {
    "name": "ipython",
    "version": 3
   },
   "file_extension": ".py",
   "mimetype": "text/x-python",
   "name": "python",
   "nbconvert_exporter": "python",
   "pygments_lexer": "ipython3",
   "version": "3.7.4"
  }
 },
 "nbformat": 4,
 "nbformat_minor": 2
}
