{
 "cells": [
  {
   "cell_type": "code",
   "execution_count": 2,
   "metadata": {},
   "outputs": [
    {
     "name": "stdout",
     "output_type": "stream",
     "text": [
      "Input 2 number (Hour and minute) and calculate parking cost.\n",
      "12\n",
      "4\n",
      "Total parking cost price:  1808\n"
     ]
    }
   ],
   "source": [
    "print(\"Input 2 number (Hour and minute) and calculate parking cost.\")\n",
    "dict1 = {}\n",
    "dict1['hr'] = (int(input(\"Parking hour : \")))\n",
    "dict1['min'] = (int(input(\"Parking minute : \")))\n",
    "# print(dict1)\n",
    "costPerHour = 150\n",
    "costPerMinute = 2\n",
    "\n",
    "print(\"Total parking cost price: \", dict1['hr'] * 150 + dict1['min'] * 2)"
   ]
  },
  {
   "cell_type": "code",
   "execution_count": null,
   "metadata": {},
   "outputs": [],
   "source": []
  }
 ],
 "metadata": {
  "kernelspec": {
   "display_name": "Python 3",
   "language": "python",
   "name": "python3"
  },
  "language_info": {
   "codemirror_mode": {
    "name": "ipython",
    "version": 3
   },
   "file_extension": ".py",
   "mimetype": "text/x-python",
   "name": "python",
   "nbconvert_exporter": "python",
   "pygments_lexer": "ipython3",
   "version": "3.7.4"
  }
 },
 "nbformat": 4,
 "nbformat_minor": 2
}
