{
 "cells": [
  {
   "cell_type": "code",
   "execution_count": 6,
   "metadata": {},
   "outputs": [
    {
     "name": "stdout",
     "output_type": "stream",
     "text": [
      "\n",
      "qwerqwr\n",
      "tuityi\n",
      "asdadasdsa\n",
      "nm,nm,nbnm\n",
      "['asdadasdsa', 'nm,nm,nbnm', 'qwerqwr', 'tuityi']\n"
     ]
    }
   ],
   "source": [
    "print(\"\")\n",
    "lst = []\n",
    "while len(lst) < 4:\n",
    "    lst.append(input())\n",
    "lst.sort()\n",
    "print(lst)\n",
    "    "
   ]
  },
  {
   "cell_type": "code",
   "execution_count": null,
   "metadata": {},
   "outputs": [],
   "source": []
  }
 ],
 "metadata": {
  "kernelspec": {
   "display_name": "Python 3",
   "language": "python",
   "name": "python3"
  },
  "language_info": {
   "codemirror_mode": {
    "name": "ipython",
    "version": 3
   },
   "file_extension": ".py",
   "mimetype": "text/x-python",
   "name": "python",
   "nbconvert_exporter": "python",
   "pygments_lexer": "ipython3",
   "version": "3.7.4"
  }
 },
 "nbformat": 4,
 "nbformat_minor": 2
}
