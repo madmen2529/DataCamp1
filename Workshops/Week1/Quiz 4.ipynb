{
 "cells": [
  {
   "cell_type": "code",
   "execution_count": 1,
   "metadata": {},
   "outputs": [
    {
     "name": "stdout",
     "output_type": "stream",
     "text": [
      "6\n"
     ]
    }
   ],
   "source": [
    "a = [ [[1,3],[3,4]], [5,[5,6],[7,8]] ]\n",
    "print(a[1][1][1])"
   ]
  },
  {
   "cell_type": "code",
   "execution_count": 2,
   "metadata": {},
   "outputs": [
    {
     "name": "stdout",
     "output_type": "stream",
     "text": [
      "[['John', 'Doe'], ['Jane', 'Doe'], ['June', 'Doe'], ['Joy', 'Doe']]\n"
     ]
    }
   ],
   "source": [
    "members = [[\"John\", \"Doe\"],[\"Jane\", \"Doe\"],[\"June\", \"Doe\"],[\"Joy\", \"Doe\"]]\n",
    "print(members)"
   ]
  },
  {
   "cell_type": "code",
   "execution_count": 3,
   "metadata": {},
   "outputs": [
    {
     "name": "stdout",
     "output_type": "stream",
     "text": [
      "[['John', 'Doe'], ['Jane', 'Doe'], ['June', 'Doe']]\n"
     ]
    }
   ],
   "source": [
    "del members[3]\n",
    "print(members)"
   ]
  },
  {
   "cell_type": "code",
   "execution_count": 4,
   "metadata": {},
   "outputs": [
    {
     "name": "stdout",
     "output_type": "stream",
     "text": [
      "[['First', 'Bourne'], ['John', 'Doe'], ['Jane', 'Doe'], ['June', 'Doe']]\n"
     ]
    }
   ],
   "source": [
    "members.insert(0, [\"First\", \"Bourne\"])\n",
    "print(members)"
   ]
  },
  {
   "cell_type": "code",
   "execution_count": 5,
   "metadata": {},
   "outputs": [
    {
     "name": "stdout",
     "output_type": "stream",
     "text": [
      "[['First', 'Bourne'], ['John', 'Doe', 80], ['Jane', 'Doe'], ['June', 'Doe']]\n"
     ]
    }
   ],
   "source": [
    "weight = 70\n",
    "members[1].append(weight + 10)\n",
    "print(members)"
   ]
  },
  {
   "cell_type": "code",
   "execution_count": null,
   "metadata": {},
   "outputs": [],
   "source": []
  }
 ],
 "metadata": {
  "kernelspec": {
   "display_name": "Python 3",
   "language": "python",
   "name": "python3"
  },
  "language_info": {
   "codemirror_mode": {
    "name": "ipython",
    "version": 3
   },
   "file_extension": ".py",
   "mimetype": "text/x-python",
   "name": "python",
   "nbconvert_exporter": "python",
   "pygments_lexer": "ipython3",
   "version": "3.7.4"
  }
 },
 "nbformat": 4,
 "nbformat_minor": 2
}
